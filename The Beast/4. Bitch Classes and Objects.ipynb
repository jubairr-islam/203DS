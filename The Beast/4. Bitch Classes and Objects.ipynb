{
 "cells": [
  {
   "attachments": {},
   "cell_type": "markdown",
   "metadata": {},
   "source": [
    "**Classes and Objects**"
   ]
  },
  {
   "cell_type": "code",
   "execution_count": 2,
   "metadata": {},
   "outputs": [
    {
     "name": "stdout",
     "output_type": "stream",
     "text": [
      "<class '__main__.flower'>\n"
     ]
    }
   ],
   "source": [
    "class flower:\n",
    "  pass\n",
    "\n",
    "lily = flower\n",
    "print(lily)"
   ]
  },
  {
   "cell_type": "code",
   "execution_count": 3,
   "metadata": {},
   "outputs": [
    {
     "name": "stdout",
     "output_type": "stream",
     "text": [
      "Hello\n",
      "Hello\n"
     ]
    }
   ],
   "source": [
    "class flower:\n",
    "  def __init__(self):\n",
    "    print(\"Hello\")\n",
    "    \n",
    "bokul1 = flower()\n",
    "bokul2 = flower()"
   ]
  },
  {
   "cell_type": "code",
   "execution_count": 4,
   "metadata": {},
   "outputs": [
    {
     "name": "stdout",
     "output_type": "stream",
     "text": [
      "40\n"
     ]
    },
    {
     "data": {
      "text/plain": [
       "<__main__.rectangle at 0x246ed988fd0>"
      ]
     },
     "execution_count": 4,
     "metadata": {},
     "output_type": "execute_result"
    }
   ],
   "source": [
    "class rectangle:\n",
    "  def __init__(self, length, width):\n",
    "    print(length * width)\n",
    "\n",
    "rectangle(10, 4)"
   ]
  },
  {
   "attachments": {},
   "cell_type": "markdown",
   "metadata": {},
   "source": [
    "#**Functional Programming**#"
   ]
  },
  {
   "cell_type": "code",
   "execution_count": 5,
   "metadata": {},
   "outputs": [
    {
     "name": "stdout",
     "output_type": "stream",
     "text": [
      "20\n"
     ]
    }
   ],
   "source": [
    "def rectangle(length, width):\n",
    "  return length * width\n",
    "a = 4\n",
    "b = 5\n",
    "print(rectangle(4, 5))"
   ]
  },
  {
   "cell_type": "code",
   "execution_count": 20,
   "metadata": {},
   "outputs": [
    {
     "name": "stdout",
     "output_type": "stream",
     "text": [
      "hello\n"
     ]
    }
   ],
   "source": [
    "def a():\n",
    "  def __b():\n",
    "    print(\"hello\")\n",
    "  __b()\n",
    "\n",
    "a()"
   ]
  },
  {
   "attachments": {},
   "cell_type": "markdown",
   "metadata": {},
   "source": [
    "#**Object Oriented Programming**#\n",
    "\n",
    "Object-oriented programming in Python is a programming paradigm that organizes code into objects that have properties and methods, allowing for code reusability and easier maintenance."
   ]
  },
  {
   "cell_type": "code",
   "execution_count": 6,
   "metadata": {},
   "outputs": [
    {
     "name": "stdout",
     "output_type": "stream",
     "text": [
      "15\n"
     ]
    }
   ],
   "source": [
    "#Rectangular\n",
    "class rect:\n",
    "  __val = 10\n",
    "  def __init__(self, length, width):\n",
    "    self.l = length\n",
    "    self.w = width\n",
    "  \n",
    "  def getArea(self):\n",
    "    print(self.l * self.w)\n",
    "  \n",
    "  def __hello(self):\n",
    "    print(\"Sunday\")\n",
    "\n",
    "  \n",
    "r1 = rect(3, 5)\n",
    "r1.getArea()\n",
    "# Thease are the private variable starts with __(Variable) #print(r1.__val) #private variable\n",
    "# r1.__hello() #private function"
   ]
  },
  {
   "cell_type": "code",
   "execution_count": 7,
   "metadata": {},
   "outputs": [
    {
     "name": "stdout",
     "output_type": "stream",
     "text": [
      "Area 1256.8\n",
      "Volume 4189.333333333333\n"
     ]
    }
   ],
   "source": [
    "#Sphere\n",
    "class sphere:\n",
    "  def __init__(self, radius):\n",
    "    self.r = radius\n",
    "  \n",
    "  def getArea(self):\n",
    "    print(\"Area\", 4 * 3.142 * self.r * self.r)\n",
    "\n",
    "  def getVolume(self):\n",
    "    print(\"Volume\", (4/3.0 * 3.142 * (self.r)**3)) \n",
    "\n",
    "s1 = sphere(10)\n",
    "s1.getArea()\n",
    "s1.getVolume()"
   ]
  },
  {
   "cell_type": "markdown",
   "metadata": {},
   "source": [
    "#method\n",
    "class sphere:\n",
    "  #constructor\n",
    "  def __init__(self, radius):\n",
    "    self.r = (radius)\n",
    "\n",
    "  #(object) method\n",
    "  def area(self):\n",
    "    print(\"Area: \", 4 * 3.142 * self.r ** 2)\n",
    "  \n",
    "  #(object) method\n",
    "  def volume(self):\n",
    "    print(\"Volume: \", (4/3.0) * 3.142 * self.r ** 3)\n",
    "\n",
    "\n",
    "s = sphere(10)\n",
    "s.area()\n",
    "s.volume()"
   ]
  },
  {
   "cell_type": "code",
   "execution_count": 8,
   "metadata": {},
   "outputs": [
    {
     "name": "stdout",
     "output_type": "stream",
     "text": [
      "11\n",
      "12\n",
      "13\n"
     ]
    }
   ],
   "source": [
    "class flower:\n",
    "  val = 10\n",
    "  def __init__(self, color, petals, weight, name, price):\n",
    "    self.c = color\n",
    "    self.p = petals\n",
    "    self.w = weight\n",
    "    self.n = name\n",
    "    self.pr = price\n",
    "  \n",
    "  def getName(self):\n",
    "    print(self.n)\n",
    "  \n",
    "  def getPrice(self):\n",
    "    #class variable -- flower.val\n",
    "    flower.val += 1 \n",
    "    print(flower.val)\n",
    "\n",
    "f1 = flower(\"red\", \"10\", \"100\", \"rose\", 13)\n",
    "f1.getPrice()\n",
    "\n",
    "f2 = flower(\"red\", \"10\", \"100\", \"rose\", 13)\n",
    "f2.getPrice()\n",
    "\n",
    "f3 = flower(\"red\", \"10\", \"100\", \"rose\", 13)\n",
    "f3.getPrice()"
   ]
  },
  {
   "attachments": {},
   "cell_type": "markdown",
   "metadata": {},
   "source": [
    "#c - functional programming\n",
    "#java - object oriented programming\n",
    "#c++ - functional and object oriented programming"
   ]
  },
  {
   "cell_type": "code",
   "execution_count": 9,
   "metadata": {},
   "outputs": [],
   "source": [
    "#object\n",
    "a = 1\n",
    "b = 12\n",
    "\n",
    "###\n",
    "#mango\n",
    "### weight - float\n",
    "### volume - float\n",
    "### color - string\n",
    "### taste - string\n",
    "### origin - string\n",
    "### name - string\n",
    "\n",
    "class mango:\n",
    "  def __init__(self, weight, volume, color, taste, origin, name):\n",
    "    pass\n",
    "\n",
    "#mango1 is an object of class mango\n",
    "mango1 = mango(10,100, \"yellow\", \"sweet\", \"rajshahi\", \"himshagor\")\n",
    "\n",
    "#mango is an object of class mango\n",
    "mango2 = mango(2000, 1000, \"red\", \"bitter\", \"barishal\", \"haribhanga\")"
   ]
  },
  {
   "cell_type": "code",
   "execution_count": 10,
   "metadata": {},
   "outputs": [],
   "source": [
    "class phone:\n",
    "  def __init__(self, price, dateofmanufacture, os, color, weight):\n",
    "    pass\n",
    "\n",
    "p1 = phone(1000, 1999, \"symbian\", \"black\", \"200\")\n",
    "p2 = phone(1000000, 2018, \"android\", \"black\", \"500\")"
   ]
  },
  {
   "cell_type": "code",
   "execution_count": 11,
   "metadata": {},
   "outputs": [],
   "source": [
    "class patient:\n",
    "  def __init__(self, name, age, bloodtype, adress, phone, disease):\n",
    "    pass\n",
    "\n",
    "pt1 = patient(\"abc\", 45, \"A+\", \"abac\", 123, \"cancer\")\n",
    "pt2 = patient(\"abc\", 15, \"B+\", \"sac\", 11223, \"lung issue\")"
   ]
  },
  {
   "cell_type": "code",
   "execution_count": 12,
   "metadata": {},
   "outputs": [
    {
     "name": "stdout",
     "output_type": "stream",
     "text": [
      "1\n",
      "2\n"
     ]
    }
   ],
   "source": [
    "class patient:\n",
    "  \n",
    "  #class variable\n",
    "  token = 0\n",
    "  def __init__(self, name, disease):\n",
    "    self.n = name\n",
    "    self.d = disease\n",
    "  \n",
    "  def getToken(self):\n",
    "    #class name is patient\n",
    "    patient.token = patient.token + 1\n",
    "    print(patient.token)\n",
    "\n",
    "p1 = patient(\"abc\", \"lung disease\")\n",
    "p1.getToken()\n",
    "\n",
    "p2 = patient(\"xyz\", \"jaundice\")\n",
    "p2.getToken()"
   ]
  },
  {
   "cell_type": "code",
   "execution_count": 13,
   "metadata": {},
   "outputs": [
    {
     "name": "stdout",
     "output_type": "stream",
     "text": [
      "1\n",
      "1\n"
     ]
    }
   ],
   "source": [
    "class patient:\n",
    "\n",
    "  def __init__(self, name, disease):\n",
    "    self.n = name\n",
    "    self.d = disease\n",
    "    self.token = 0\n",
    "  \n",
    "  def getToken(self):\n",
    "    self.token = self.token + 1\n",
    "    print(self.token)\n",
    "    \n",
    "p1 = patient(\"abc\", \"lung disease\")\n",
    "p1.getToken()\n",
    "\n",
    "p2 = patient(\"xyz\", \"jaundice\")\n",
    "p2.getToken()"
   ]
  },
  {
   "cell_type": "code",
   "execution_count": 18,
   "metadata": {},
   "outputs": [
    {
     "name": "stdout",
     "output_type": "stream",
     "text": [
      "1\n"
     ]
    }
   ],
   "source": [
    "class patient:\n",
    "\n",
    "  #class variable\n",
    "  v = 110\n",
    "  s = 78\n",
    "  token=0\n",
    "\n",
    "  def __init__(self, name, disease):\n",
    "    self.n = name\n",
    "    self.d = disease\n",
    "    self.token = 0\n",
    "    self.v = 1600\n",
    "\n",
    "  #class method\n",
    "  @classmethod\n",
    "  def hello(cls):\n",
    "    cls.token = cls.token  + 1\n",
    "    print(cls.token)    \n",
    "\n",
    "p = patient(\"abc\", \"123\")\n",
    "p.hello()"
   ]
  },
  {
   "cell_type": "code",
   "execution_count": 17,
   "metadata": {},
   "outputs": [
    {
     "name": "stdout",
     "output_type": "stream",
     "text": [
      "111\n",
      "1610\n",
      "111\n",
      "Today is Wednesday\n"
     ]
    }
   ],
   "source": [
    "class Patient:\n",
    "  # class variables\n",
    "  v = 110\n",
    "  s = 78\n",
    "  token=0\n",
    "\n",
    "  def __init__(self, name, disease):\n",
    "    self.n = name\n",
    "    self.d = disease\n",
    "    self.token = 0\n",
    "    self.v = 1600\n",
    "  \n",
    "  # object method\n",
    "  def getToken(self):\n",
    "    self.token = self.token + 1\n",
    "    print(self.token)\n",
    "\n",
    "  # class method\n",
    "  @classmethod\n",
    "  def hello(cls):\n",
    "    cls.v = cls.v + 1\n",
    "    cls.s = 45\n",
    "    cls.token = cls.token  + 1\n",
    "    print(cls.v)\n",
    "\n",
    "  # static method\n",
    "  @staticmethod\n",
    "  def greeting(day):\n",
    "    print(\"Today is\", day)\n",
    "\n",
    "p = Patient(\"abc\", \"123\")\n",
    "p.hello()\n",
    "p.v = p.v + 10\n",
    "print(p.v)\n",
    "\n",
    "print(Patient.v)\n",
    "\n",
    "# Call the greeting static method\n",
    "Patient.greeting(\"Wednesday\")"
   ]
  },
  {
   "cell_type": "code",
   "execution_count": 19,
   "metadata": {},
   "outputs": [
    {
     "name": "stdout",
     "output_type": "stream",
     "text": [
      "120\n"
     ]
    }
   ],
   "source": [
    "class patient:\n",
    "  def __init__(self, a, b):\n",
    "    self.x = a\n",
    "    self.y = b\n",
    "  \n",
    "  def hello(self):\n",
    "    print(self.x * self.y)\n",
    "\n",
    "p = patient(10, 12)\n",
    "p.hello()"
   ]
  }
 ],
 "metadata": {
  "kernelspec": {
   "display_name": "Python 3",
   "language": "python",
   "name": "python3"
  },
  "language_info": {
   "codemirror_mode": {
    "name": "ipython",
    "version": 3
   },
   "file_extension": ".py",
   "mimetype": "text/x-python",
   "name": "python",
   "nbconvert_exporter": "python",
   "pygments_lexer": "ipython3",
   "version": "3.10.4"
  },
  "orig_nbformat": 4
 },
 "nbformat": 4,
 "nbformat_minor": 2
}

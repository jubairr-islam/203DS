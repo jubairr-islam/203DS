{
 "cells": [
  {
   "cell_type": "code",
   "execution_count": 1,
   "metadata": {},
   "outputs": [
    {
     "name": "stdout",
     "output_type": "stream",
     "text": [
      "25\n",
      "<class 'int'>\n",
      "12.01\n",
      "<class 'float'>\n",
      "This Data Type is, \n",
      "<class 'str'>\n",
      "True\n",
      "<class 'bool'>\n"
     ]
    }
   ],
   "source": [
    "x = 12  #int data type\n",
    "print(x + 13)\n",
    "print(type(x))\n",
    "\n",
    "y = 12.01   #float data type\n",
    "print(y)\n",
    "print(type(y))\n",
    "\n",
    "z = \"This Data Type is, \"   #string data type\n",
    "print(z)\n",
    "print(type(z))\n",
    "\n",
    "b = True    #boolean data type\n",
    "print(b)\n",
    "print(type(b))"
   ]
  },
  {
   "cell_type": "code",
   "execution_count": 2,
   "metadata": {},
   "outputs": [
    {
     "name": "stdout",
     "output_type": "stream",
     "text": [
      "1212\n",
      "HelloWorld\n",
      "appleapple\n",
      "appleapple\n",
      "appleapple\n"
     ]
    }
   ],
   "source": [
    "#Integer Addition is not posssible. EX:\n",
    "# a = \"12\"\n",
    "# print(a + 12) # integer addition\n",
    "\n",
    "\n",
    "# string concatenation\n",
    "a = \"12\"\n",
    "print(a + \"12\") # Output Will be 1212\n",
    "\n",
    "b = \"Hello\"\n",
    "print(b + \"World\")  #Output Will be HelloWorld\n",
    "\n",
    "c = \"apple\"\n",
    "print(c + c)    # Output Will be appleapple\n",
    "\n",
    "c = \"apple\"\n",
    "print(c * 2)    # Output Will be appleapple\n",
    "print(2 * c)    # Output Will be appleapple"
   ]
  },
  {
   "cell_type": "code",
   "execution_count": 3,
   "metadata": {},
   "outputs": [
    {
     "name": "stdout",
     "output_type": "stream",
     "text": [
      "4.5\n",
      "4\n",
      "1\n"
     ]
    }
   ],
   "source": [
    "#String Divide is  not supported\n",
    "# c = \"apple\"\n",
    "# print(c / 2) #This will not work\n",
    "\n",
    "#Integer Divide is allowed\n",
    "print(9 / 2) # single / will show the actual result, 4.5\n",
    "\n",
    "print(9 // 2) # Doubel // will show the integer result, 4  \n",
    "# Explanation of 9//2.\n",
    "# 2)9(4 (Quotient) -> 9 // 2\n",
    "#   8\n",
    "# ------\n",
    "#   1 -> remainder\n",
    "\n",
    "print(9 % 2)\n",
    "#the output will be the reminder, 1. explanation of 9%2\n",
    "# 2)9(4 (Quotient) -> **9 // 2**\n",
    "#   8\n",
    "# ------\n",
    "#   1 --> Remainder **(9 % 2)**"
   ]
  },
  {
   "cell_type": "code",
   "execution_count": 4,
   "metadata": {},
   "outputs": [
    {
     "name": "stdout",
     "output_type": "stream",
     "text": [
      "<class 'str'>\n",
      "<class 'int'>\n",
      "<class 'int'>\n"
     ]
    }
   ],
   "source": [
    "#User Input Different Data Types and output the type of the data.\n",
    "a = input(\"Input 1?  \")\n",
    "print(type(a)) #Input1 will show the output will be String, even though the input is str, int or float.\n",
    "\n",
    "a = int(input(\"Input 2? \"))\n",
    "print(type(a)) #Input2 will show the output in int. and will crush in str and float.\n",
    "\n",
    "a = (input(\"Input 3? \"))\n",
    "print(type(int(a))) #Input3 will show the output in int. and will crush in str and float."
   ]
  },
  {
   "cell_type": "code",
   "execution_count": 5,
   "metadata": {},
   "outputs": [
    {
     "name": "stdout",
     "output_type": "stream",
     "text": [
      "1\n",
      "0\n",
      "TrueTrueTrueTrueTrueTrueTrueTrueTrue\n",
      "9\n",
      "False\n",
      "True\n",
      "True\n"
     ]
    }
   ],
   "source": [
    "#Boolean\n",
    "t = True\n",
    "f = False\n",
    "print(t + f) #Output will be in 1 or 0. 0= False, 1= True\n",
    "\n",
    "t = False\n",
    "print(int(t)) #Output is 0. because t is false.\n",
    "\n",
    "t = \"True\"\n",
    "print(t * 9) #Output is 1 and ptint 9 times in a row.\n",
    "\n",
    "t = True\n",
    "print(t * 9) #here, output will be 9. because t is true=1 and print will be 1*9=9\n",
    " \n",
    "a  = 0\n",
    "print(bool(a)) #output will be False. because a is 0. and in boolean 0=False.\n",
    "\n",
    "c = -90.8\n",
    "print(bool(c)) #output will be true. because a is not equal to 0\n",
    "\n",
    "b = 123\n",
    "print(bool(b)) #again output will be true. because a is not equal to 0"
   ]
  }
 ],
 "metadata": {
  "kernelspec": {
   "display_name": "Python 3",
   "language": "python",
   "name": "python3"
  },
  "language_info": {
   "codemirror_mode": {
    "name": "ipython",
    "version": 3
   },
   "file_extension": ".py",
   "mimetype": "text/x-python",
   "name": "python",
   "nbconvert_exporter": "python",
   "pygments_lexer": "ipython3",
   "version": "3.10.4"
  },
  "orig_nbformat": 4
 },
 "nbformat": 4,
 "nbformat_minor": 2
}

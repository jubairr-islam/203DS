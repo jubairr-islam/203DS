{
 "cells": [
  {
   "attachments": {},
   "cell_type": "markdown",
   "metadata": {},
   "source": [
    "**Built in data structures:**\n",
    "\n",
    "Every Data Structure has 04 basic things.\n",
    "\n",
    " ***1.Add, 2.Remove, 3.Print, 4.Find.***"
   ]
  },
  {
   "attachments": {},
   "cell_type": "markdown",
   "metadata": {},
   "source": [
    "#**List**#"
   ]
  },
  {
   "cell_type": "code",
   "execution_count": 1,
   "metadata": {},
   "outputs": [
    {
     "name": "stdout",
     "output_type": "stream",
     "text": [
      "0\n",
      "0\n",
      "4\n"
     ]
    }
   ],
   "source": [
    "# representation of list.\n",
    "a = list([])\n",
    "b = []  \n",
    "\n",
    "#Size of the list.\n",
    "print(len(a))\n",
    "print(len(b))\n",
    "\n",
    "#Example\n",
    "a = list([1,2,3,4])\n",
    "print(len(a))"
   ]
  },
  {
   "cell_type": "code",
   "execution_count": 2,
   "metadata": {},
   "outputs": [
    {
     "name": "stdout",
     "output_type": "stream",
     "text": [
      "[10, 20, 30]\n",
      "[10, 78, 20, 30]\n",
      "7\n",
      "b:  [4, 5, 6]\n",
      "5\n",
      "b:  [4, 6]\n",
      "b:  [4, 6]\n",
      "[]\n",
      "a[0]:  10\n",
      "True\n",
      "3\n"
     ]
    }
   ],
   "source": [
    "#add elements\n",
    "a = list()\n",
    "\"Append  - add elements at the end of the list\"\n",
    "a.append(10) #0\n",
    "a.append(20) #1\n",
    "a.append(30) #2\n",
    "print(a)\n",
    "\n",
    "\"Insert - add element at a particular index\"\n",
    "a.insert(1, 78)\n",
    "print(a)\n",
    "\n",
    "\n",
    "\n",
    "\n",
    "#    0 1 2 3\n",
    "b = [4,5,6,7]\n",
    "#remove elements\n",
    "\"pop()  - remove elements at the end of the list\"\n",
    "print(b.pop())\n",
    "print(\"b: \",b)\n",
    "\n",
    "\"pop(1) - remove element from a particular index\"\n",
    "print(b.pop(1))\n",
    "print(\"b: \",b)\n",
    "\n",
    "#Remove particular value if it exists\n",
    "l = [1,2,3,4,5,6]\n",
    "for i in (l):\n",
    "  if i > 3:\n",
    "    l.remove(i)\n",
    "\n",
    "print(\"b: \",b)\n",
    "\n",
    "b = [1,3,4,5]\n",
    "#Empties the list\n",
    "b.clear()\n",
    "print(b)\n",
    "\n",
    "\n",
    "\n",
    "#find elements\n",
    "a = [10, 20, 11, 56]\n",
    "print(\"a[0]: \",a[0])\n",
    "k = 56\n",
    "print(k in a)\n",
    "\n",
    "\n",
    "#count\n",
    "a = [10, 10, 10, 2, 1]\n",
    "print(a.count(10))"
   ]
  },
  {
   "attachments": {},
   "cell_type": "markdown",
   "metadata": {},
   "source": [
    "#**Set**#"
   ]
  },
  {
   "cell_type": "code",
   "execution_count": 3,
   "metadata": {},
   "outputs": [
    {
     "name": "stdout",
     "output_type": "stream",
     "text": [
      "6\n",
      "{1, 2, 3, 4, 5, 6, 12}\n",
      "{1, 2, 3, 5, 6, 12}\n",
      "False\n"
     ]
    }
   ],
   "source": [
    "a = set({1,2,3,4,5,6})\n",
    "#a = {} # ambiguous - don't use this notation\n",
    "\n",
    "print(len(a))\n",
    "# add\n",
    "a.add(12)\n",
    "print(a)\n",
    "\n",
    "# remove\n",
    "a.remove(4)\n",
    "print(a)\n",
    "\n",
    "# find\n",
    "# a[0] - indexing in set does not work\n",
    "print(16 in a)\n"
   ]
  },
  {
   "cell_type": "code",
   "execution_count": 4,
   "metadata": {},
   "outputs": [
    {
     "name": "stdout",
     "output_type": "stream",
     "text": [
      "b  [1, 2, 3, 19]\n",
      "{19, 1, 2, 3}\n",
      "{1, 2, 3, 4, 5, 6, 7}\n",
      "{4}\n"
     ]
    }
   ],
   "source": [
    "#no duplicates \n",
    "a = set({1,1,2,3,3,2,19})\n",
    "b = list(a)\n",
    "b.sort()\n",
    "print(\"b \",b)\n",
    "print(set(b))\n",
    "\n",
    "#print(a[0]) this does not work\n",
    "\n",
    "a = set({1,2,3,4})\n",
    "b = set({4,5,6,7})\n",
    "print(a.union(b))\n",
    "print(a.intersection(b))"
   ]
  },
  {
   "attachments": {},
   "cell_type": "markdown",
   "metadata": {},
   "source": [
    "#**Tuple**#"
   ]
  },
  {
   "cell_type": "code",
   "execution_count": 5,
   "metadata": {},
   "outputs": [
    {
     "name": "stdout",
     "output_type": "stream",
     "text": [
      "4\n",
      "88881\n",
      "(88881, 2, 2, 2, 2, 3, 4)\n",
      "7\n",
      "90\n"
     ]
    }
   ],
   "source": [
    "a = (88881,2,2,2,2,3,4)\n",
    "print(a.count(2))\n",
    "#a[0] = 45 #writing in tuple is not possible\n",
    "print(a[0]) #reading of value is possible\n",
    "print(a)\n",
    "\n",
    "print(len(a))\n",
    "b = [12,3,4,13]\n",
    "b[0] = 90 #write okay\n",
    "print(b[0]) #read is okay\n",
    "\n",
    "#tuple is faster and takes less space compared to list"
   ]
  },
  {
   "attachments": {},
   "cell_type": "markdown",
   "metadata": {},
   "source": [
    "#**Dictionary**#"
   ]
  },
  {
   "cell_type": "code",
   "execution_count": 6,
   "metadata": {},
   "outputs": [
    {
     "name": "stdout",
     "output_type": "stream",
     "text": [
      "Total price:  60\n",
      "{'apple': 10, 'banana': 20, 'cherry': 30, 'dragonfruit': 1000}\n",
      "10\n",
      "{'banana': 20, 'cherry': 30, 'dragonfruit': 1000}\n"
     ]
    }
   ],
   "source": [
    "fruits = dict({\"apple\":10, \"banana\":20,\"cherry\":30})\n",
    "totalPrice = 0\n",
    "\n",
    "for key, value in fruits.items():\n",
    "  totalPrice += value\n",
    "\n",
    "print(\"Total price: \", totalPrice)\n",
    "\n",
    "#add\n",
    "fruits[\"dragonfruit\"] = 1000\n",
    "print(fruits)\n",
    "#remove\n",
    "print(fruits.pop(\"apple\"))\n",
    "print(fruits)\n",
    "#finds\n",
    "#please do yourself\n"
   ]
  },
  {
   "attachments": {},
   "cell_type": "markdown",
   "metadata": {},
   "source": [
    "#**Def Function and Parameters**#"
   ]
  },
  {
   "cell_type": "code",
   "execution_count": 7,
   "metadata": {},
   "outputs": [
    {
     "name": "stdout",
     "output_type": "stream",
     "text": [
      "196\n"
     ]
    }
   ],
   "source": [
    "def square(x): #parameter\n",
    "  print(x * x)\n",
    "\n",
    "square(14)#argument"
   ]
  },
  {
   "cell_type": "code",
   "execution_count": 8,
   "metadata": {},
   "outputs": [
    {
     "data": {
      "text/plain": [
       "36"
      ]
     },
     "execution_count": 8,
     "metadata": {},
     "output_type": "execute_result"
    }
   ],
   "source": [
    "def square(x):\n",
    "  return x * x\n",
    "\n",
    "square(4) + 20"
   ]
  },
  {
   "cell_type": "code",
   "execution_count": 9,
   "metadata": {},
   "outputs": [
    {
     "name": "stdout",
     "output_type": "stream",
     "text": [
      "Tuesday\n"
     ]
    }
   ],
   "source": [
    "def hello():\n",
    "  print(\"Tuesday\")\n",
    "\n",
    "hello()"
   ]
  },
  {
   "cell_type": "code",
   "execution_count": null,
   "metadata": {},
   "outputs": [],
   "source": [
    "def func(a,b):\n",
    "  return a+b\n",
    "print(func(12, 10))"
   ]
  },
  {
   "cell_type": "code",
   "execution_count": null,
   "metadata": {},
   "outputs": [],
   "source": [
    "def rect(length, width):\n",
    "  print(length * width)\n",
    "\n",
    "rect(10, 4)"
   ]
  },
  {
   "cell_type": "code",
   "execution_count": 10,
   "metadata": {},
   "outputs": [
    {
     "name": "stdout",
     "output_type": "stream",
     "text": [
      "Hello inside b\n"
     ]
    }
   ],
   "source": [
    "def a(x):\n",
    "  def c():\n",
    "    print(\"Please exit from the system\")\n",
    "  \n",
    "  def b():\n",
    "    print(\"Hello inside b\")\n",
    "  \n",
    "  if x % 2 == 0:\n",
    "    b()\n",
    "  else:\n",
    "    c()\n",
    "\n",
    "a(10)"
   ]
  },
  {
   "cell_type": "code",
   "execution_count": 11,
   "metadata": {},
   "outputs": [
    {
     "name": "stdout",
     "output_type": "stream",
     "text": [
      "1\n",
      "1\n",
      "5\n",
      "[2, 3, 4]\n"
     ]
    }
   ],
   "source": [
    "def hello():\n",
    "  return 1,2,3,4,5\n",
    "\n",
    "a,b,c,d,e = (hello())\n",
    "print(a)\n",
    "\n",
    "\n",
    "a,*b,e = (hello())\n",
    "print(a)\n",
    "print(e)\n",
    "print(b)"
   ]
  },
  {
   "cell_type": "code",
   "execution_count": 12,
   "metadata": {},
   "outputs": [
    {
     "name": "stdout",
     "output_type": "stream",
     "text": [
      "[]\n"
     ]
    }
   ],
   "source": [
    "def hello():\n",
    "  return 1,2\n",
    "\n",
    "a,*b,e = (hello())\n",
    "print(b)"
   ]
  }
 ],
 "metadata": {
  "kernelspec": {
   "display_name": "Python 3",
   "language": "python",
   "name": "python3"
  },
  "language_info": {
   "codemirror_mode": {
    "name": "ipython",
    "version": 3
   },
   "file_extension": ".py",
   "mimetype": "text/x-python",
   "name": "python",
   "nbconvert_exporter": "python",
   "pygments_lexer": "ipython3",
   "version": "3.10.4"
  },
  "orig_nbformat": 4
 },
 "nbformat": 4,
 "nbformat_minor": 2
}

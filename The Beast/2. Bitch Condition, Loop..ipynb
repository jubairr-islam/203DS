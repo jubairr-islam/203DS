{
 "cells": [
  {
   "attachments": {},
   "cell_type": "markdown",
   "metadata": {},
   "source": [
    "**condition statements**\n",
    "use of \"if\", \"else\", \"elif\""
   ]
  },
  {
   "cell_type": "code",
   "execution_count": 1,
   "metadata": {},
   "outputs": [
    {
     "name": "stdout",
     "output_type": "stream",
     "text": [
      "Odd\n"
     ]
    }
   ],
   "source": [
    "#Condition to Check if the input integer is odd or even\n",
    "a = int(input(\"Input Integer Number: \"))\n",
    "if a % 2 == 0:\n",
    "  print(\"Even\")\n",
    "else:\n",
    "  print(\"Odd\")"
   ]
  },
  {
   "cell_type": "code",
   "execution_count": 2,
   "metadata": {},
   "outputs": [
    {
     "name": "stdout",
     "output_type": "stream",
     "text": [
      "The number is not divisible by 2 or 3\n"
     ]
    }
   ],
   "source": [
    "#condition statement to find the input is divisible by 2 or 3 or not.\n",
    "a = int(input(\"Input Integer Number: \"))\n",
    "if a % 2 == 0:\n",
    "  print(\"Multiple of 2\")\n",
    "elif a % 3 == 0:\n",
    "  print(\"Multiple of 3\")\n",
    "else:\n",
    "  print(\"The number is not divisible by 2 or 3\")"
   ]
  },
  {
   "cell_type": "code",
   "execution_count": 3,
   "metadata": {},
   "outputs": [
    {
     "name": "stdout",
     "output_type": "stream",
     "text": [
      "The number is not divisible by 2 or 3\n"
     ]
    }
   ],
   "source": [
    "#condition statement\n",
    "a = int(input(\"Input Integer Number: \"))\n",
    "if a % 2 == 0:\n",
    "  print(\"Multiple of 2\")\n",
    "if a % 3 == 0:\n",
    "  print(\"Multiple of 3\")\n",
    "else:\n",
    "  print(\"The number is not divisible by 2 or 3\")"
   ]
  },
  {
   "cell_type": "code",
   "execution_count": 4,
   "metadata": {},
   "outputs": [
    {
     "name": "stdout",
     "output_type": "stream",
     "text": [
      "The number is divisible by 5\n"
     ]
    }
   ],
   "source": [
    "#condition statement\n",
    "a = int(input(\"Input Integer Number: \"))\n",
    "if a % 2 == 0:\n",
    "  print(\"Multiple of 2\")\n",
    "if a % 3 == 0:\n",
    "  print(\"Multiple of 3\")\n",
    "elif a % 5 == 0:\n",
    "  print(\"The number is divisible by 5\")"
   ]
  },
  {
   "cell_type": "code",
   "execution_count": 5,
   "metadata": {},
   "outputs": [
    {
     "name": "stdout",
     "output_type": "stream",
     "text": [
      "The number is divisible by 5\n"
     ]
    }
   ],
   "source": [
    "#condition statement\n",
    "a = int(input(\"Input Integer Number: \"))\n",
    "if a % 2 == 0:\n",
    "  print(\"Multiple of 2\")\n",
    "elif a % 3 == 0:\n",
    "  print(\"Multiple of 3\")\n",
    "if a % 5 == 0:\n",
    "  print(\"The number is divisible by 5\")"
   ]
  },
  {
   "cell_type": "code",
   "execution_count": 6,
   "metadata": {},
   "outputs": [
    {
     "name": "stdout",
     "output_type": "stream",
     "text": [
      "Multiple of 3\n",
      "The number is divisible by 5\n"
     ]
    }
   ],
   "source": [
    "#condition statement\n",
    "a = int(input(\"Input Integer Number: \"))\n",
    "if a % 2 == 0:\n",
    "  print(\"Multiple of 2\")\n",
    "else:\n",
    "  print(\"Multiple of 3\")\n",
    "if a % 5 == 0:\n",
    "  print(\"The number is divisible by 5\")"
   ]
  },
  {
   "attachments": {},
   "cell_type": "markdown",
   "metadata": {},
   "source": [
    "**Logical Operators**\n",
    "use of \"and\" \"or\" \"not\"."
   ]
  },
  {
   "cell_type": "code",
   "execution_count": 7,
   "metadata": {},
   "outputs": [
    {
     "name": "stdout",
     "output_type": "stream",
     "text": [
      "CSE 203 class is not happening\n"
     ]
    }
   ],
   "source": [
    "#and\n",
    "day = input(\"Day today? \")\n",
    "time = input(\"Time now? \")\n",
    "if day == \"Tuesday\" and time == \"4\":\n",
    "  print(\"CSE 203 class is happening\")\n",
    "else:\n",
    "  print(\"CSE 203 class is not happening\")"
   ]
  },
  {
   "cell_type": "code",
   "execution_count": 8,
   "metadata": {},
   "outputs": [
    {
     "name": "stdout",
     "output_type": "stream",
     "text": [
      "Workday\n"
     ]
    }
   ],
   "source": [
    "#or\n",
    "day = input(\"Day today? \")\n",
    "if day == \"Friday\" or day == \"Saturday\":\n",
    "  print(\"Holiday\")\n",
    "else:\n",
    "  print(\"Workday\")"
   ]
  },
  {
   "cell_type": "code",
   "execution_count": 9,
   "metadata": {},
   "outputs": [
    {
     "name": "stdout",
     "output_type": "stream",
     "text": [
      "International Mother Language Day is not in this month\n"
     ]
    }
   ],
   "source": [
    "#not\n",
    "month = input(\"Month now? \")\n",
    "if not (month == \"February\"):\n",
    "  print(\"International Mother Language Day is not in this month\")\n",
    "else:\n",
    "  print(\"International Mother Language Day is in this month\")"
   ]
  },
  {
   "attachments": {},
   "cell_type": "markdown",
   "metadata": {},
   "source": [
    "**Loop**\n",
    "\"While loop\" \"For loop\""
   ]
  },
  {
   "cell_type": "code",
   "execution_count": 10,
   "metadata": {},
   "outputs": [
    {
     "name": "stdout",
     "output_type": "stream",
     "text": [
      "5 4 3 2 1 "
     ]
    }
   ],
   "source": [
    "#while loop \n",
    "x = 5\n",
    "while x != 0:\n",
    "  print(x, end = \" \")\n",
    "  x = x - 1 "
   ]
  },
  {
   "cell_type": "code",
   "execution_count": 11,
   "metadata": {},
   "outputs": [
    {
     "name": "stdout",
     "output_type": "stream",
     "text": [
      "0 1 2 3 4 "
     ]
    }
   ],
   "source": [
    "#while loop \n",
    "x = 0\n",
    "while x != 5:\n",
    "  print(x, end = \" \")\n",
    "  x = x + 1 "
   ]
  },
  {
   "cell_type": "code",
   "execution_count": 12,
   "metadata": {},
   "outputs": [
    {
     "name": "stdout",
     "output_type": "stream",
     "text": [
      "3\n",
      "6\n",
      "9\n",
      "12\n"
     ]
    }
   ],
   "source": [
    "a = 0\n",
    "b = 10\n",
    "i = 0\n",
    "while i < b:\n",
    "  i = i + 3\n",
    "  print(i)"
   ]
  },
  {
   "cell_type": "code",
   "execution_count": 13,
   "metadata": {},
   "outputs": [
    {
     "name": "stdout",
     "output_type": "stream",
     "text": [
      "9 8 7 6 5 4 3 2 1 0 "
     ]
    }
   ],
   "source": [
    "x = 10\n",
    "while x:\n",
    "  x = x - 1\n",
    "  print(x, end = \" \")"
   ]
  },
  {
   "cell_type": "code",
   "execution_count": 14,
   "metadata": {},
   "outputs": [
    {
     "name": "stdout",
     "output_type": "stream",
     "text": [
      "0 1 2 3 4 "
     ]
    }
   ],
   "source": [
    "#for loop \n",
    "for i in range(5):\n",
    "  print(i, end = \" \")"
   ]
  },
  {
   "cell_type": "code",
   "execution_count": 15,
   "metadata": {},
   "outputs": [
    {
     "name": "stdout",
     "output_type": "stream",
     "text": [
      "5 6 7 8 9 "
     ]
    }
   ],
   "source": [
    "for i in range(5,10):\n",
    "  print(i, end = \" \")"
   ]
  },
  {
   "cell_type": "code",
   "execution_count": 16,
   "metadata": {},
   "outputs": [
    {
     "name": "stdout",
     "output_type": "stream",
     "text": [
      "0 2 4 6 8 "
     ]
    }
   ],
   "source": [
    "for i in range(0, 10, 2 ):\n",
    "  print(i, end = \" \")"
   ]
  },
  {
   "cell_type": "code",
   "execution_count": 17,
   "metadata": {},
   "outputs": [
    {
     "name": "stdout",
     "output_type": "stream",
     "text": [
      "10 9 8 7 6 5 4 3 2 1 "
     ]
    }
   ],
   "source": [
    "for i in range(10, 0, -1):\n",
    "  print(i, end = \" \")"
   ]
  },
  {
   "cell_type": "code",
   "execution_count": 18,
   "metadata": {},
   "outputs": [
    {
     "name": "stdout",
     "output_type": "stream",
     "text": [
      "3 4 5 6 7 8 9 10 11 12 "
     ]
    }
   ],
   "source": [
    "a = 0\n",
    "b = 10\n",
    "for i in range(a, b):\n",
    "  i = i + 3\n",
    "  print(i, end = \" \")"
   ]
  },
  {
   "cell_type": "code",
   "execution_count": 19,
   "metadata": {},
   "outputs": [
    {
     "name": "stdout",
     "output_type": "stream",
     "text": [
      "0 1 2 3 4 5 6 7 8 9 "
     ]
    }
   ],
   "source": [
    "a = 0\n",
    "b = 10\n",
    "c = 1\n",
    "for i in range(a, b, c):\n",
    "  a = 3\n",
    "  b = 20\n",
    "  c = 2\n",
    "  print(i, end = \" \")"
   ]
  }
 ],
 "metadata": {
  "kernelspec": {
   "display_name": "Python 3",
   "language": "python",
   "name": "python3"
  },
  "language_info": {
   "codemirror_mode": {
    "name": "ipython",
    "version": 3
   },
   "file_extension": ".py",
   "mimetype": "text/x-python",
   "name": "python",
   "nbconvert_exporter": "python",
   "pygments_lexer": "ipython3",
   "version": "3.10.4"
  },
  "orig_nbformat": 4
 },
 "nbformat": 4,
 "nbformat_minor": 2
}
